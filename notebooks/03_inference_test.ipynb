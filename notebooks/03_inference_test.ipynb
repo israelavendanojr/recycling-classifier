{
 "cells": [
  {
   "cell_type": "code",
   "execution_count": null,
   "id": "14bfd538",
   "metadata": {},
   "outputs": [],
   "source": [
    "import sys\n",
    "import os\n",
    "sys.path.append(os.path.abspath(os.path.join(os.getcwd(), '..')))"
   ]
  },
  {
   "cell_type": "code",
   "execution_count": 22,
   "id": "34404e84",
   "metadata": {},
   "outputs": [],
   "source": [
    "import cv2\n",
    "import torch\n",
    "import numpy as np\n",
    "from PIL import Image\n",
    "from torchvision import transforms\n",
    "from src.classifier.model import get_model\n",
    "from src.classifier.utils import get_transforms\n"
   ]
  },
  {
   "cell_type": "markdown",
   "id": "53f52dc5",
   "metadata": {},
   "source": [
    "## Load Model & Transforms"
   ]
  },
  {
   "cell_type": "code",
   "execution_count": 25,
   "id": "f3664b3b",
   "metadata": {},
   "outputs": [],
   "source": [
    "# Setup path\n",
    "project_root = os.path.abspath(os.path.join(os.getcwd(), '..'))\n",
    "model_path = model_path = os.path.join(project_root, 'saved_models', 'best_model.pth')\n",
    "device = torch.device(\"cuda\" if torch.cuda.is_available() else \"cpu\")\n",
    "\n",
    "# Load model\n",
    "model = get_model(num_classes=5)  # adjust if needed\n",
    "model.load_state_dict(torch.load(model_path, map_location=device))\n",
    "model.eval().to(device)\n",
    "\n",
    "# Load transforms\n",
    "_, preprocess = get_transforms(224)"
   ]
  },
  {
   "cell_type": "markdown",
   "id": "797ad1a8",
   "metadata": {},
   "source": [
    "## Capture Image "
   ]
  },
  {
   "cell_type": "code",
   "execution_count": null,
   "id": "741bcf81",
   "metadata": {},
   "outputs": [
    {
     "name": "stdout",
     "output_type": "stream",
     "text": [
      "Press 'q' to quit.\n"
     ]
    }
   ],
   "source": [
    "class_names = ['cardboard', 'glass', 'metal', 'plastic', 'trash']\n",
    "\n",
    "cap = cv2.VideoCapture(1)\n",
    "roi_box = (800, 500, 500, 500)  # (x, y, w, h)\n",
    "\n",
    "print(\"Press 'q' to quit.\")\n",
    "while True:\n",
    "    ret, frame = cap.read()\n",
    "    if not ret:\n",
    "        break\n",
    "\n",
    "    x, y, w, h = roi_box\n",
    "    roi = frame[y:y+h, x:x+w]\n",
    "    \n",
    "    # Convert ROI to PIL and preprocess\n",
    "    img = cv2.cvtColor(roi, cv2.COLOR_BGR2RGB)\n",
    "    pil_img = Image.fromarray(img)\n",
    "    input_tensor = preprocess(pil_img).unsqueeze(0).to(device)\n",
    "\n",
    "    # Inference\n",
    "    with torch.no_grad():\n",
    "        outputs = model(input_tensor)\n",
    "        _, pred = torch.max(outputs, 1)\n",
    "        pred_class = class_names[pred.item()]\n",
    "\n",
    "    # Draw ROI and prediction\n",
    "    cv2.rectangle(frame, (x, y), (x+w, y+h), (255, 0, 0), 2)\n",
    "    cv2.putText(frame, f\"Pred: {pred_class}\", (x, y-10),\n",
    "                cv2.FONT_HERSHEY_SIMPLEX, 0.8, (0, 255, 0), 2)\n",
    "\n",
    "    # Show frame\n",
    "    cv2.imshow('Webcam Inference', frame)\n",
    "    \n",
    "    if cv2.waitKey(1) & 0xFF == ord('q'):\n",
    "        break\n",
    "\n",
    "cap.release()\n",
    "cv2.destroyAllWindows()"
   ]
  }
 ],
 "metadata": {
  "kernelspec": {
   "display_name": "venv",
   "language": "python",
   "name": "python3"
  },
  "language_info": {
   "codemirror_mode": {
    "name": "ipython",
    "version": 3
   },
   "file_extension": ".py",
   "mimetype": "text/x-python",
   "name": "python",
   "nbconvert_exporter": "python",
   "pygments_lexer": "ipython3",
   "version": "3.12.10"
  }
 },
 "nbformat": 4,
 "nbformat_minor": 5
}
