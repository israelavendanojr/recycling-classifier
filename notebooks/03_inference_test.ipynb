{
 "cells": [
  {
   "cell_type": "code",
   "execution_count": null,
   "id": "14bfd538",
   "metadata": {},
   "outputs": [],
   "source": [
    "import sys\n",
    "import os\n",
    "sys.path.append(os.path.abspath(os.path.join(os.getcwd(), '..')))"
   ]
  },
  {
   "cell_type": "code",
   "execution_count": 3,
   "id": "34404e84",
   "metadata": {},
   "outputs": [],
   "source": [
    "import torch\n",
    "from src.classifier.model import get_model\n",
    "from src.classifier.utils import get_transforms\n",
    "from PIL import Image"
   ]
  },
  {
   "cell_type": "markdown",
   "id": "53f52dc5",
   "metadata": {},
   "source": [
    "## Load Model & Transforms"
   ]
  },
  {
   "cell_type": "code",
   "execution_count": 7,
   "id": "f3664b3b",
   "metadata": {},
   "outputs": [],
   "source": [
    "# Setup path\n",
    "project_root = os.path.abspath(os.path.join(os.getcwd(), '..'))\n",
    "model_path = model_path = os.path.join(project_root, 'saved_models', 'best_model.pth')\n",
    "device = torch.device(\"cuda\" if torch.cuda.is_available() else \"cpu\")\n",
    "\n",
    "# Load model\n",
    "model = get_model(num_classes=5)  # adjust if needed\n",
    "model.load_state_dict(torch.load(model_path, map_location=device))\n",
    "model.eval().to(device)\n",
    "\n",
    "# Load transforms\n",
    "_, val_test_transform = get_transforms(224)"
   ]
  }
 ],
 "metadata": {
  "kernelspec": {
   "display_name": "venv",
   "language": "python",
   "name": "python3"
  },
  "language_info": {
   "codemirror_mode": {
    "name": "ipython",
    "version": 3
   },
   "file_extension": ".py",
   "mimetype": "text/x-python",
   "name": "python",
   "nbconvert_exporter": "python",
   "pygments_lexer": "ipython3",
   "version": "3.12.10"
  }
 },
 "nbformat": 4,
 "nbformat_minor": 5
}
